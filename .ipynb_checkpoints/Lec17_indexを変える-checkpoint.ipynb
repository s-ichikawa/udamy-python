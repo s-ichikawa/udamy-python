{
 "cells": [
  {
   "cell_type": "code",
   "execution_count": 1,
   "metadata": {
    "collapsed": true
   },
   "outputs": [],
   "source": [
    "import numpy as np\n",
    "import pandas as pd\n",
    "from pandas import Series, DataFrame\n",
    "from numpy.random import randn"
   ]
  },
  {
   "cell_type": "code",
   "execution_count": 2,
   "metadata": {
    "collapsed": true
   },
   "outputs": [],
   "source": [
    "ser1 = Series([1,2,3,4], index=['A','B','C','D'])"
   ]
  },
  {
   "cell_type": "code",
   "execution_count": 3,
   "metadata": {
    "collapsed": false
   },
   "outputs": [
    {
     "data": {
      "text/plain": [
       "A    1\n",
       "B    2\n",
       "C    3\n",
       "D    4\n",
       "dtype: int64"
      ]
     },
     "execution_count": 3,
     "metadata": {},
     "output_type": "execute_result"
    }
   ],
   "source": [
    "ser1"
   ]
  },
  {
   "cell_type": "code",
   "execution_count": 4,
   "metadata": {
    "collapsed": true
   },
   "outputs": [],
   "source": [
    "ser2 = ser1.reindex(['A','B','C','D','E','F'])"
   ]
  },
  {
   "cell_type": "code",
   "execution_count": 5,
   "metadata": {
    "collapsed": false
   },
   "outputs": [
    {
     "data": {
      "text/plain": [
       "A    1.0\n",
       "B    2.0\n",
       "C    3.0\n",
       "D    4.0\n",
       "E    NaN\n",
       "F    NaN\n",
       "dtype: float64"
      ]
     },
     "execution_count": 5,
     "metadata": {},
     "output_type": "execute_result"
    }
   ],
   "source": [
    "ser2"
   ]
  },
  {
   "cell_type": "code",
   "execution_count": 6,
   "metadata": {
    "collapsed": false
   },
   "outputs": [
    {
     "data": {
      "text/plain": [
       "A    1.0\n",
       "B    2.0\n",
       "C    3.0\n",
       "D    4.0\n",
       "E    NaN\n",
       "F    NaN\n",
       "G    0.0\n",
       "dtype: float64"
      ]
     },
     "execution_count": 6,
     "metadata": {},
     "output_type": "execute_result"
    }
   ],
   "source": [
    "ser2.reindex(['A','B','C','D','E','F','G'], fill_value=0)"
   ]
  },
  {
   "cell_type": "code",
   "execution_count": 7,
   "metadata": {
    "collapsed": true
   },
   "outputs": [],
   "source": [
    "ser3 = Series(['USA', 'Mexico', 'Canada'],index=[0,5,10])"
   ]
  },
  {
   "cell_type": "code",
   "execution_count": 8,
   "metadata": {
    "collapsed": false
   },
   "outputs": [
    {
     "data": {
      "text/plain": [
       "0        USA\n",
       "5     Mexico\n",
       "10    Canada\n",
       "dtype: object"
      ]
     },
     "execution_count": 8,
     "metadata": {},
     "output_type": "execute_result"
    }
   ],
   "source": [
    "ser3"
   ]
  },
  {
   "cell_type": "code",
   "execution_count": 9,
   "metadata": {
    "collapsed": false
   },
   "outputs": [
    {
     "data": {
      "text/plain": [
       "0        USA\n",
       "1        USA\n",
       "2        USA\n",
       "3        USA\n",
       "4        USA\n",
       "5     Mexico\n",
       "6     Mexico\n",
       "7     Mexico\n",
       "8     Mexico\n",
       "9     Mexico\n",
       "10    Canada\n",
       "11    Canada\n",
       "12    Canada\n",
       "13    Canada\n",
       "14    Canada\n",
       "dtype: object"
      ]
     },
     "execution_count": 9,
     "metadata": {},
     "output_type": "execute_result"
    }
   ],
   "source": [
    "ser3.reindex(range(15), method='ffill')"
   ]
  },
  {
   "cell_type": "code",
   "execution_count": 10,
   "metadata": {
    "collapsed": true
   },
   "outputs": [],
   "source": [
    "dframe = DataFrame(randn(25).reshape((5,5)), index=['A','B','D','E','F'],columns=['col1','col2','col3','col4','col5',])"
   ]
  },
  {
   "cell_type": "code",
   "execution_count": 11,
   "metadata": {
    "collapsed": false
   },
   "outputs": [
    {
     "data": {
      "text/html": [
       "<div>\n",
       "<table border=\"1\" class=\"dataframe\">\n",
       "  <thead>\n",
       "    <tr style=\"text-align: right;\">\n",
       "      <th></th>\n",
       "      <th>col1</th>\n",
       "      <th>col2</th>\n",
       "      <th>col3</th>\n",
       "      <th>col4</th>\n",
       "      <th>col5</th>\n",
       "    </tr>\n",
       "  </thead>\n",
       "  <tbody>\n",
       "    <tr>\n",
       "      <th>A</th>\n",
       "      <td>1.880717</td>\n",
       "      <td>1.420980</td>\n",
       "      <td>-0.287073</td>\n",
       "      <td>-1.273728</td>\n",
       "      <td>-1.493974</td>\n",
       "    </tr>\n",
       "    <tr>\n",
       "      <th>B</th>\n",
       "      <td>-0.952022</td>\n",
       "      <td>-1.375311</td>\n",
       "      <td>-0.127021</td>\n",
       "      <td>1.326399</td>\n",
       "      <td>-1.232784</td>\n",
       "    </tr>\n",
       "    <tr>\n",
       "      <th>D</th>\n",
       "      <td>-0.142686</td>\n",
       "      <td>-1.348594</td>\n",
       "      <td>-1.236857</td>\n",
       "      <td>-0.917326</td>\n",
       "      <td>1.047157</td>\n",
       "    </tr>\n",
       "    <tr>\n",
       "      <th>E</th>\n",
       "      <td>0.813150</td>\n",
       "      <td>-1.014593</td>\n",
       "      <td>-0.765453</td>\n",
       "      <td>0.321618</td>\n",
       "      <td>-1.616621</td>\n",
       "    </tr>\n",
       "    <tr>\n",
       "      <th>F</th>\n",
       "      <td>-0.724523</td>\n",
       "      <td>0.599836</td>\n",
       "      <td>-0.376148</td>\n",
       "      <td>-1.558659</td>\n",
       "      <td>1.101626</td>\n",
       "    </tr>\n",
       "  </tbody>\n",
       "</table>\n",
       "</div>"
      ],
      "text/plain": [
       "       col1      col2      col3      col4      col5\n",
       "A  1.880717  1.420980 -0.287073 -1.273728 -1.493974\n",
       "B -0.952022 -1.375311 -0.127021  1.326399 -1.232784\n",
       "D -0.142686 -1.348594 -1.236857 -0.917326  1.047157\n",
       "E  0.813150 -1.014593 -0.765453  0.321618 -1.616621\n",
       "F -0.724523  0.599836 -0.376148 -1.558659  1.101626"
      ]
     },
     "execution_count": 11,
     "metadata": {},
     "output_type": "execute_result"
    }
   ],
   "source": [
    "dframe"
   ]
  },
  {
   "cell_type": "code",
   "execution_count": 12,
   "metadata": {
    "collapsed": true
   },
   "outputs": [],
   "source": [
    "new_index = ['A','B','C','D','E','F']\n",
    "dframe2 = dframe.reindex(new_index)"
   ]
  },
  {
   "cell_type": "code",
   "execution_count": 13,
   "metadata": {
    "collapsed": false
   },
   "outputs": [
    {
     "data": {
      "text/html": [
       "<div>\n",
       "<table border=\"1\" class=\"dataframe\">\n",
       "  <thead>\n",
       "    <tr style=\"text-align: right;\">\n",
       "      <th></th>\n",
       "      <th>col1</th>\n",
       "      <th>col2</th>\n",
       "      <th>col3</th>\n",
       "      <th>col4</th>\n",
       "      <th>col5</th>\n",
       "    </tr>\n",
       "  </thead>\n",
       "  <tbody>\n",
       "    <tr>\n",
       "      <th>A</th>\n",
       "      <td>1.880717</td>\n",
       "      <td>1.420980</td>\n",
       "      <td>-0.287073</td>\n",
       "      <td>-1.273728</td>\n",
       "      <td>-1.493974</td>\n",
       "    </tr>\n",
       "    <tr>\n",
       "      <th>B</th>\n",
       "      <td>-0.952022</td>\n",
       "      <td>-1.375311</td>\n",
       "      <td>-0.127021</td>\n",
       "      <td>1.326399</td>\n",
       "      <td>-1.232784</td>\n",
       "    </tr>\n",
       "    <tr>\n",
       "      <th>C</th>\n",
       "      <td>NaN</td>\n",
       "      <td>NaN</td>\n",
       "      <td>NaN</td>\n",
       "      <td>NaN</td>\n",
       "      <td>NaN</td>\n",
       "    </tr>\n",
       "    <tr>\n",
       "      <th>D</th>\n",
       "      <td>-0.142686</td>\n",
       "      <td>-1.348594</td>\n",
       "      <td>-1.236857</td>\n",
       "      <td>-0.917326</td>\n",
       "      <td>1.047157</td>\n",
       "    </tr>\n",
       "    <tr>\n",
       "      <th>E</th>\n",
       "      <td>0.813150</td>\n",
       "      <td>-1.014593</td>\n",
       "      <td>-0.765453</td>\n",
       "      <td>0.321618</td>\n",
       "      <td>-1.616621</td>\n",
       "    </tr>\n",
       "    <tr>\n",
       "      <th>F</th>\n",
       "      <td>-0.724523</td>\n",
       "      <td>0.599836</td>\n",
       "      <td>-0.376148</td>\n",
       "      <td>-1.558659</td>\n",
       "      <td>1.101626</td>\n",
       "    </tr>\n",
       "  </tbody>\n",
       "</table>\n",
       "</div>"
      ],
      "text/plain": [
       "       col1      col2      col3      col4      col5\n",
       "A  1.880717  1.420980 -0.287073 -1.273728 -1.493974\n",
       "B -0.952022 -1.375311 -0.127021  1.326399 -1.232784\n",
       "C       NaN       NaN       NaN       NaN       NaN\n",
       "D -0.142686 -1.348594 -1.236857 -0.917326  1.047157\n",
       "E  0.813150 -1.014593 -0.765453  0.321618 -1.616621\n",
       "F -0.724523  0.599836 -0.376148 -1.558659  1.101626"
      ]
     },
     "execution_count": 13,
     "metadata": {},
     "output_type": "execute_result"
    }
   ],
   "source": [
    "dframe2"
   ]
  },
  {
   "cell_type": "code",
   "execution_count": 14,
   "metadata": {
    "collapsed": true
   },
   "outputs": [],
   "source": [
    "new_columns = ['col1','col2','col3','col4','col5','col6']"
   ]
  },
  {
   "cell_type": "code",
   "execution_count": 15,
   "metadata": {
    "collapsed": false
   },
   "outputs": [
    {
     "data": {
      "text/html": [
       "<div>\n",
       "<table border=\"1\" class=\"dataframe\">\n",
       "  <thead>\n",
       "    <tr style=\"text-align: right;\">\n",
       "      <th></th>\n",
       "      <th>col1</th>\n",
       "      <th>col2</th>\n",
       "      <th>col3</th>\n",
       "      <th>col4</th>\n",
       "      <th>col5</th>\n",
       "      <th>col6</th>\n",
       "    </tr>\n",
       "  </thead>\n",
       "  <tbody>\n",
       "    <tr>\n",
       "      <th>A</th>\n",
       "      <td>1.880717</td>\n",
       "      <td>1.420980</td>\n",
       "      <td>-0.287073</td>\n",
       "      <td>-1.273728</td>\n",
       "      <td>-1.493974</td>\n",
       "      <td>NaN</td>\n",
       "    </tr>\n",
       "    <tr>\n",
       "      <th>B</th>\n",
       "      <td>-0.952022</td>\n",
       "      <td>-1.375311</td>\n",
       "      <td>-0.127021</td>\n",
       "      <td>1.326399</td>\n",
       "      <td>-1.232784</td>\n",
       "      <td>NaN</td>\n",
       "    </tr>\n",
       "    <tr>\n",
       "      <th>C</th>\n",
       "      <td>NaN</td>\n",
       "      <td>NaN</td>\n",
       "      <td>NaN</td>\n",
       "      <td>NaN</td>\n",
       "      <td>NaN</td>\n",
       "      <td>NaN</td>\n",
       "    </tr>\n",
       "    <tr>\n",
       "      <th>D</th>\n",
       "      <td>-0.142686</td>\n",
       "      <td>-1.348594</td>\n",
       "      <td>-1.236857</td>\n",
       "      <td>-0.917326</td>\n",
       "      <td>1.047157</td>\n",
       "      <td>NaN</td>\n",
       "    </tr>\n",
       "    <tr>\n",
       "      <th>E</th>\n",
       "      <td>0.813150</td>\n",
       "      <td>-1.014593</td>\n",
       "      <td>-0.765453</td>\n",
       "      <td>0.321618</td>\n",
       "      <td>-1.616621</td>\n",
       "      <td>NaN</td>\n",
       "    </tr>\n",
       "    <tr>\n",
       "      <th>F</th>\n",
       "      <td>-0.724523</td>\n",
       "      <td>0.599836</td>\n",
       "      <td>-0.376148</td>\n",
       "      <td>-1.558659</td>\n",
       "      <td>1.101626</td>\n",
       "      <td>NaN</td>\n",
       "    </tr>\n",
       "  </tbody>\n",
       "</table>\n",
       "</div>"
      ],
      "text/plain": [
       "       col1      col2      col3      col4      col5  col6\n",
       "A  1.880717  1.420980 -0.287073 -1.273728 -1.493974   NaN\n",
       "B -0.952022 -1.375311 -0.127021  1.326399 -1.232784   NaN\n",
       "C       NaN       NaN       NaN       NaN       NaN   NaN\n",
       "D -0.142686 -1.348594 -1.236857 -0.917326  1.047157   NaN\n",
       "E  0.813150 -1.014593 -0.765453  0.321618 -1.616621   NaN\n",
       "F -0.724523  0.599836 -0.376148 -1.558659  1.101626   NaN"
      ]
     },
     "execution_count": 15,
     "metadata": {},
     "output_type": "execute_result"
    }
   ],
   "source": [
    "dframe2.reindex(columns=new_columns)"
   ]
  },
  {
   "cell_type": "code",
   "execution_count": 16,
   "metadata": {
    "collapsed": false
   },
   "outputs": [
    {
     "data": {
      "text/html": [
       "<div>\n",
       "<table border=\"1\" class=\"dataframe\">\n",
       "  <thead>\n",
       "    <tr style=\"text-align: right;\">\n",
       "      <th></th>\n",
       "      <th>col1</th>\n",
       "      <th>col2</th>\n",
       "      <th>col3</th>\n",
       "      <th>col4</th>\n",
       "      <th>col5</th>\n",
       "    </tr>\n",
       "  </thead>\n",
       "  <tbody>\n",
       "    <tr>\n",
       "      <th>A</th>\n",
       "      <td>1.880717</td>\n",
       "      <td>1.420980</td>\n",
       "      <td>-0.287073</td>\n",
       "      <td>-1.273728</td>\n",
       "      <td>-1.493974</td>\n",
       "    </tr>\n",
       "    <tr>\n",
       "      <th>B</th>\n",
       "      <td>-0.952022</td>\n",
       "      <td>-1.375311</td>\n",
       "      <td>-0.127021</td>\n",
       "      <td>1.326399</td>\n",
       "      <td>-1.232784</td>\n",
       "    </tr>\n",
       "    <tr>\n",
       "      <th>D</th>\n",
       "      <td>-0.142686</td>\n",
       "      <td>-1.348594</td>\n",
       "      <td>-1.236857</td>\n",
       "      <td>-0.917326</td>\n",
       "      <td>1.047157</td>\n",
       "    </tr>\n",
       "    <tr>\n",
       "      <th>E</th>\n",
       "      <td>0.813150</td>\n",
       "      <td>-1.014593</td>\n",
       "      <td>-0.765453</td>\n",
       "      <td>0.321618</td>\n",
       "      <td>-1.616621</td>\n",
       "    </tr>\n",
       "    <tr>\n",
       "      <th>F</th>\n",
       "      <td>-0.724523</td>\n",
       "      <td>0.599836</td>\n",
       "      <td>-0.376148</td>\n",
       "      <td>-1.558659</td>\n",
       "      <td>1.101626</td>\n",
       "    </tr>\n",
       "  </tbody>\n",
       "</table>\n",
       "</div>"
      ],
      "text/plain": [
       "       col1      col2      col3      col4      col5\n",
       "A  1.880717  1.420980 -0.287073 -1.273728 -1.493974\n",
       "B -0.952022 -1.375311 -0.127021  1.326399 -1.232784\n",
       "D -0.142686 -1.348594 -1.236857 -0.917326  1.047157\n",
       "E  0.813150 -1.014593 -0.765453  0.321618 -1.616621\n",
       "F -0.724523  0.599836 -0.376148 -1.558659  1.101626"
      ]
     },
     "execution_count": 16,
     "metadata": {},
     "output_type": "execute_result"
    }
   ],
   "source": [
    "dframe"
   ]
  },
  {
   "cell_type": "code",
   "execution_count": 17,
   "metadata": {
    "collapsed": false
   },
   "outputs": [
    {
     "data": {
      "text/html": [
       "<div>\n",
       "<table border=\"1\" class=\"dataframe\">\n",
       "  <thead>\n",
       "    <tr style=\"text-align: right;\">\n",
       "      <th></th>\n",
       "      <th>col1</th>\n",
       "      <th>col2</th>\n",
       "      <th>col3</th>\n",
       "      <th>col4</th>\n",
       "      <th>col5</th>\n",
       "      <th>col6</th>\n",
       "    </tr>\n",
       "  </thead>\n",
       "  <tbody>\n",
       "    <tr>\n",
       "      <th>A</th>\n",
       "      <td>1.880717</td>\n",
       "      <td>1.420980</td>\n",
       "      <td>-0.287073</td>\n",
       "      <td>-1.273728</td>\n",
       "      <td>-1.493974</td>\n",
       "      <td>NaN</td>\n",
       "    </tr>\n",
       "    <tr>\n",
       "      <th>B</th>\n",
       "      <td>-0.952022</td>\n",
       "      <td>-1.375311</td>\n",
       "      <td>-0.127021</td>\n",
       "      <td>1.326399</td>\n",
       "      <td>-1.232784</td>\n",
       "      <td>NaN</td>\n",
       "    </tr>\n",
       "    <tr>\n",
       "      <th>C</th>\n",
       "      <td>NaN</td>\n",
       "      <td>NaN</td>\n",
       "      <td>NaN</td>\n",
       "      <td>NaN</td>\n",
       "      <td>NaN</td>\n",
       "      <td>NaN</td>\n",
       "    </tr>\n",
       "    <tr>\n",
       "      <th>D</th>\n",
       "      <td>-0.142686</td>\n",
       "      <td>-1.348594</td>\n",
       "      <td>-1.236857</td>\n",
       "      <td>-0.917326</td>\n",
       "      <td>1.047157</td>\n",
       "      <td>NaN</td>\n",
       "    </tr>\n",
       "    <tr>\n",
       "      <th>E</th>\n",
       "      <td>0.813150</td>\n",
       "      <td>-1.014593</td>\n",
       "      <td>-0.765453</td>\n",
       "      <td>0.321618</td>\n",
       "      <td>-1.616621</td>\n",
       "      <td>NaN</td>\n",
       "    </tr>\n",
       "    <tr>\n",
       "      <th>F</th>\n",
       "      <td>-0.724523</td>\n",
       "      <td>0.599836</td>\n",
       "      <td>-0.376148</td>\n",
       "      <td>-1.558659</td>\n",
       "      <td>1.101626</td>\n",
       "      <td>NaN</td>\n",
       "    </tr>\n",
       "  </tbody>\n",
       "</table>\n",
       "</div>"
      ],
      "text/plain": [
       "       col1      col2      col3      col4      col5  col6\n",
       "A  1.880717  1.420980 -0.287073 -1.273728 -1.493974   NaN\n",
       "B -0.952022 -1.375311 -0.127021  1.326399 -1.232784   NaN\n",
       "C       NaN       NaN       NaN       NaN       NaN   NaN\n",
       "D -0.142686 -1.348594 -1.236857 -0.917326  1.047157   NaN\n",
       "E  0.813150 -1.014593 -0.765453  0.321618 -1.616621   NaN\n",
       "F -0.724523  0.599836 -0.376148 -1.558659  1.101626   NaN"
      ]
     },
     "execution_count": 17,
     "metadata": {},
     "output_type": "execute_result"
    }
   ],
   "source": [
    "dframe.ix[new_index,new_columns]"
   ]
  },
  {
   "cell_type": "code",
   "execution_count": null,
   "metadata": {
    "collapsed": true
   },
   "outputs": [],
   "source": []
  }
 ],
 "metadata": {
  "kernelspec": {
   "display_name": "Python [Root]",
   "language": "python",
   "name": "Python [Root]"
  },
  "language_info": {
   "codemirror_mode": {
    "name": "ipython",
    "version": 3
   },
   "file_extension": ".py",
   "mimetype": "text/x-python",
   "name": "python",
   "nbconvert_exporter": "python",
   "pygments_lexer": "ipython3",
   "version": "3.5.2"
  }
 },
 "nbformat": 4,
 "nbformat_minor": 0
}
